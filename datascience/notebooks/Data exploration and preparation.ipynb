{
 "cells": [
  {
   "cell_type": "markdown",
   "id": "f65b2228",
   "metadata": {},
   "source": [
    "# Imports "
   ]
  },
  {
   "cell_type": "code",
   "execution_count": 194,
   "id": "efe4057f",
   "metadata": {},
   "outputs": [],
   "source": [
    "import pandas as pd"
   ]
  },
  {
   "cell_type": "code",
   "execution_count": 387,
   "id": "ff5ea383",
   "metadata": {},
   "outputs": [],
   "source": [
    "import datetime"
   ]
  },
  {
   "cell_type": "code",
   "execution_count": null,
   "id": "75145360",
   "metadata": {},
   "outputs": [],
   "source": []
  },
  {
   "cell_type": "markdown",
   "id": "2c3907d3",
   "metadata": {},
   "source": [
    "# Load data "
   ]
  },
  {
   "cell_type": "code",
   "execution_count": 195,
   "id": "e173df0b",
   "metadata": {},
   "outputs": [],
   "source": [
    "transactions = pd.read_csv('../data/transactions.csv')"
   ]
  },
  {
   "cell_type": "code",
   "execution_count": 196,
   "id": "11e3d5c5",
   "metadata": {},
   "outputs": [],
   "source": [
    "accounts = pd.read_csv('../data/accounts.csv')"
   ]
  },
  {
   "cell_type": "code",
   "execution_count": 197,
   "id": "41f511e2",
   "metadata": {},
   "outputs": [],
   "source": [
    "users = pd.read_csv('../data/users.csv')"
   ]
  },
  {
   "cell_type": "markdown",
   "id": "5045d034",
   "metadata": {},
   "source": [
    "# Explore transactions"
   ]
  },
  {
   "cell_type": "code",
   "execution_count": 198,
   "id": "a32b50b0",
   "metadata": {},
   "outputs": [
    {
     "data": {
      "text/html": [
       "<div>\n",
       "<style scoped>\n",
       "    .dataframe tbody tr th:only-of-type {\n",
       "        vertical-align: middle;\n",
       "    }\n",
       "\n",
       "    .dataframe tbody tr th {\n",
       "        vertical-align: top;\n",
       "    }\n",
       "\n",
       "    .dataframe thead th {\n",
       "        text-align: right;\n",
       "    }\n",
       "</style>\n",
       "<table border=\"1\" class=\"dataframe\">\n",
       "  <thead>\n",
       "    <tr style=\"text-align: right;\">\n",
       "      <th></th>\n",
       "      <th>date</th>\n",
       "      <th>amount</th>\n",
       "      <th>account_id</th>\n",
       "    </tr>\n",
       "  </thead>\n",
       "  <tbody>\n",
       "    <tr>\n",
       "      <th>0</th>\n",
       "      <td>2019-12-16</td>\n",
       "      <td>-29.09</td>\n",
       "      <td>1</td>\n",
       "    </tr>\n",
       "    <tr>\n",
       "      <th>1</th>\n",
       "      <td>2019-12-16</td>\n",
       "      <td>160.00</td>\n",
       "      <td>1</td>\n",
       "    </tr>\n",
       "    <tr>\n",
       "      <th>2</th>\n",
       "      <td>2019-12-16</td>\n",
       "      <td>-14.00</td>\n",
       "      <td>1</td>\n",
       "    </tr>\n",
       "    <tr>\n",
       "      <th>3</th>\n",
       "      <td>2019-12-17</td>\n",
       "      <td>-94.50</td>\n",
       "      <td>1</td>\n",
       "    </tr>\n",
       "    <tr>\n",
       "      <th>4</th>\n",
       "      <td>2019-12-17</td>\n",
       "      <td>50.00</td>\n",
       "      <td>1</td>\n",
       "    </tr>\n",
       "  </tbody>\n",
       "</table>\n",
       "</div>"
      ],
      "text/plain": [
       "         date  amount  account_id\n",
       "0  2019-12-16  -29.09           1\n",
       "1  2019-12-16  160.00           1\n",
       "2  2019-12-16  -14.00           1\n",
       "3  2019-12-17  -94.50           1\n",
       "4  2019-12-17   50.00           1"
      ]
     },
     "execution_count": 198,
     "metadata": {},
     "output_type": "execute_result"
    }
   ],
   "source": [
    "transactions.head()"
   ]
  },
  {
   "cell_type": "code",
   "execution_count": 199,
   "id": "28139bd1",
   "metadata": {},
   "outputs": [
    {
     "data": {
      "text/plain": [
       "(191398, 3)"
      ]
     },
     "execution_count": 199,
     "metadata": {},
     "output_type": "execute_result"
    }
   ],
   "source": [
    "transactions.shape"
   ]
  },
  {
   "cell_type": "code",
   "execution_count": 200,
   "id": "3ed235f3",
   "metadata": {},
   "outputs": [
    {
     "data": {
      "text/html": [
       "<div>\n",
       "<style scoped>\n",
       "    .dataframe tbody tr th:only-of-type {\n",
       "        vertical-align: middle;\n",
       "    }\n",
       "\n",
       "    .dataframe tbody tr th {\n",
       "        vertical-align: top;\n",
       "    }\n",
       "\n",
       "    .dataframe thead th {\n",
       "        text-align: right;\n",
       "    }\n",
       "</style>\n",
       "<table border=\"1\" class=\"dataframe\">\n",
       "  <thead>\n",
       "    <tr style=\"text-align: right;\">\n",
       "      <th></th>\n",
       "      <th>amount</th>\n",
       "      <th>account_id</th>\n",
       "    </tr>\n",
       "  </thead>\n",
       "  <tbody>\n",
       "    <tr>\n",
       "      <th>count</th>\n",
       "      <td>191398.000000</td>\n",
       "      <td>191398.000000</td>\n",
       "    </tr>\n",
       "    <tr>\n",
       "      <th>mean</th>\n",
       "      <td>3.902326</td>\n",
       "      <td>224.494054</td>\n",
       "    </tr>\n",
       "    <tr>\n",
       "      <th>std</th>\n",
       "      <td>1202.288020</td>\n",
       "      <td>127.191401</td>\n",
       "    </tr>\n",
       "    <tr>\n",
       "      <th>min</th>\n",
       "      <td>-82201.680000</td>\n",
       "      <td>0.000000</td>\n",
       "    </tr>\n",
       "    <tr>\n",
       "      <th>25%</th>\n",
       "      <td>-53.700000</td>\n",
       "      <td>110.000000</td>\n",
       "    </tr>\n",
       "    <tr>\n",
       "      <th>50%</th>\n",
       "      <td>-15.900000</td>\n",
       "      <td>226.000000</td>\n",
       "    </tr>\n",
       "    <tr>\n",
       "      <th>75%</th>\n",
       "      <td>-2.000000</td>\n",
       "      <td>337.000000</td>\n",
       "    </tr>\n",
       "    <tr>\n",
       "      <th>max</th>\n",
       "      <td>83340.000000</td>\n",
       "      <td>440.000000</td>\n",
       "    </tr>\n",
       "  </tbody>\n",
       "</table>\n",
       "</div>"
      ],
      "text/plain": [
       "              amount     account_id\n",
       "count  191398.000000  191398.000000\n",
       "mean        3.902326     224.494054\n",
       "std      1202.288020     127.191401\n",
       "min    -82201.680000       0.000000\n",
       "25%       -53.700000     110.000000\n",
       "50%       -15.900000     226.000000\n",
       "75%        -2.000000     337.000000\n",
       "max     83340.000000     440.000000"
      ]
     },
     "execution_count": 200,
     "metadata": {},
     "output_type": "execute_result"
    }
   ],
   "source": [
    "transactions.describe()"
   ]
  },
  {
   "cell_type": "code",
   "execution_count": 201,
   "id": "164a5f01",
   "metadata": {},
   "outputs": [
    {
     "data": {
      "text/plain": [
       "date           object\n",
       "amount        float64\n",
       "account_id      int64\n",
       "dtype: object"
      ]
     },
     "execution_count": 201,
     "metadata": {},
     "output_type": "execute_result"
    }
   ],
   "source": [
    "transactions.dtypes"
   ]
  },
  {
   "cell_type": "code",
   "execution_count": 202,
   "id": "d3e8fbc0",
   "metadata": {},
   "outputs": [
    {
     "name": "stdout",
     "output_type": "stream",
     "text": [
      "<class 'pandas.core.frame.DataFrame'>\n",
      "RangeIndex: 191398 entries, 0 to 191397\n",
      "Data columns (total 3 columns):\n",
      " #   Column      Non-Null Count   Dtype  \n",
      "---  ------      --------------   -----  \n",
      " 0   date        191398 non-null  object \n",
      " 1   amount      191398 non-null  float64\n",
      " 2   account_id  191398 non-null  int64  \n",
      "dtypes: float64(1), int64(1), object(1)\n",
      "memory usage: 4.4+ MB\n"
     ]
    }
   ],
   "source": [
    "transactions.info()"
   ]
  },
  {
   "cell_type": "code",
   "execution_count": 203,
   "id": "8c4daa9b",
   "metadata": {},
   "outputs": [
    {
     "data": {
      "text/plain": [
       "False    181542\n",
       "True       9856\n",
       "dtype: int64"
      ]
     },
     "execution_count": 203,
     "metadata": {},
     "output_type": "execute_result"
    }
   ],
   "source": [
    "transactions.duplicated().value_counts()"
   ]
  },
  {
   "cell_type": "code",
   "execution_count": 204,
   "id": "a79d3887",
   "metadata": {},
   "outputs": [
    {
     "data": {
      "text/plain": [
       "Index(['date', 'amount', 'account_id'], dtype='object')"
      ]
     },
     "execution_count": 204,
     "metadata": {},
     "output_type": "execute_result"
    }
   ],
   "source": [
    "transactions.columns"
   ]
  },
  {
   "cell_type": "code",
   "execution_count": 205,
   "id": "d510b1c1",
   "metadata": {},
   "outputs": [],
   "source": [
    "transactions.date = pd.to_datetime(transactions.date)"
   ]
  },
  {
   "cell_type": "code",
   "execution_count": 206,
   "id": "e15cf883",
   "metadata": {},
   "outputs": [
    {
     "data": {
      "text/plain": [
       "date          datetime64[ns]\n",
       "amount               float64\n",
       "account_id             int64\n",
       "dtype: object"
      ]
     },
     "execution_count": 206,
     "metadata": {},
     "output_type": "execute_result"
    }
   ],
   "source": [
    "transactions.dtypes"
   ]
  },
  {
   "cell_type": "markdown",
   "id": "a5deb4a8",
   "metadata": {},
   "source": [
    "# Explore accounts "
   ]
  },
  {
   "cell_type": "code",
   "execution_count": 207,
   "id": "6a8b1877",
   "metadata": {},
   "outputs": [
    {
     "data": {
      "text/html": [
       "<div>\n",
       "<style scoped>\n",
       "    .dataframe tbody tr th:only-of-type {\n",
       "        vertical-align: middle;\n",
       "    }\n",
       "\n",
       "    .dataframe tbody tr th {\n",
       "        vertical-align: top;\n",
       "    }\n",
       "\n",
       "    .dataframe thead th {\n",
       "        text-align: right;\n",
       "    }\n",
       "</style>\n",
       "<table border=\"1\" class=\"dataframe\">\n",
       "  <thead>\n",
       "    <tr style=\"text-align: right;\">\n",
       "      <th></th>\n",
       "      <th>id</th>\n",
       "      <th>balance</th>\n",
       "      <th>user_id</th>\n",
       "    </tr>\n",
       "  </thead>\n",
       "  <tbody>\n",
       "    <tr>\n",
       "      <th>0</th>\n",
       "      <td>0</td>\n",
       "      <td>3000.00</td>\n",
       "      <td>112</td>\n",
       "    </tr>\n",
       "    <tr>\n",
       "      <th>1</th>\n",
       "      <td>1</td>\n",
       "      <td>-465.66</td>\n",
       "      <td>112</td>\n",
       "    </tr>\n",
       "    <tr>\n",
       "      <th>2</th>\n",
       "      <td>2</td>\n",
       "      <td>372.81</td>\n",
       "      <td>104</td>\n",
       "    </tr>\n",
       "    <tr>\n",
       "      <th>3</th>\n",
       "      <td>3</td>\n",
       "      <td>229.73</td>\n",
       "      <td>198</td>\n",
       "    </tr>\n",
       "    <tr>\n",
       "      <th>4</th>\n",
       "      <td>4</td>\n",
       "      <td>1998.48</td>\n",
       "      <td>316</td>\n",
       "    </tr>\n",
       "  </tbody>\n",
       "</table>\n",
       "</div>"
      ],
      "text/plain": [
       "   id  balance  user_id\n",
       "0   0  3000.00      112\n",
       "1   1  -465.66      112\n",
       "2   2   372.81      104\n",
       "3   3   229.73      198\n",
       "4   4  1998.48      316"
      ]
     },
     "execution_count": 207,
     "metadata": {},
     "output_type": "execute_result"
    }
   ],
   "source": [
    "accounts.head()"
   ]
  },
  {
   "cell_type": "code",
   "execution_count": 208,
   "id": "5d9dfb10",
   "metadata": {},
   "outputs": [
    {
     "data": {
      "text/plain": [
       "(441, 3)"
      ]
     },
     "execution_count": 208,
     "metadata": {},
     "output_type": "execute_result"
    }
   ],
   "source": [
    "accounts.shape"
   ]
  },
  {
   "cell_type": "code",
   "execution_count": 209,
   "id": "913019ae",
   "metadata": {},
   "outputs": [
    {
     "data": {
      "text/html": [
       "<div>\n",
       "<style scoped>\n",
       "    .dataframe tbody tr th:only-of-type {\n",
       "        vertical-align: middle;\n",
       "    }\n",
       "\n",
       "    .dataframe tbody tr th {\n",
       "        vertical-align: top;\n",
       "    }\n",
       "\n",
       "    .dataframe thead th {\n",
       "        text-align: right;\n",
       "    }\n",
       "</style>\n",
       "<table border=\"1\" class=\"dataframe\">\n",
       "  <thead>\n",
       "    <tr style=\"text-align: right;\">\n",
       "      <th></th>\n",
       "      <th>id</th>\n",
       "      <th>balance</th>\n",
       "      <th>user_id</th>\n",
       "    </tr>\n",
       "  </thead>\n",
       "  <tbody>\n",
       "    <tr>\n",
       "      <th>count</th>\n",
       "      <td>441.00000</td>\n",
       "      <td>441.000000</td>\n",
       "      <td>441.000000</td>\n",
       "    </tr>\n",
       "    <tr>\n",
       "      <th>mean</th>\n",
       "      <td>220.00000</td>\n",
       "      <td>1978.075986</td>\n",
       "      <td>172.231293</td>\n",
       "    </tr>\n",
       "    <tr>\n",
       "      <th>std</th>\n",
       "      <td>127.44999</td>\n",
       "      <td>9892.338349</td>\n",
       "      <td>99.099541</td>\n",
       "    </tr>\n",
       "    <tr>\n",
       "      <th>min</th>\n",
       "      <td>0.00000</td>\n",
       "      <td>-13474.330000</td>\n",
       "      <td>0.000000</td>\n",
       "    </tr>\n",
       "    <tr>\n",
       "      <th>25%</th>\n",
       "      <td>110.00000</td>\n",
       "      <td>0.480000</td>\n",
       "      <td>85.000000</td>\n",
       "    </tr>\n",
       "    <tr>\n",
       "      <th>50%</th>\n",
       "      <td>220.00000</td>\n",
       "      <td>59.200000</td>\n",
       "      <td>172.000000</td>\n",
       "    </tr>\n",
       "    <tr>\n",
       "      <th>75%</th>\n",
       "      <td>330.00000</td>\n",
       "      <td>1169.360000</td>\n",
       "      <td>258.000000</td>\n",
       "    </tr>\n",
       "    <tr>\n",
       "      <th>max</th>\n",
       "      <td>440.00000</td>\n",
       "      <td>154251.970000</td>\n",
       "      <td>342.000000</td>\n",
       "    </tr>\n",
       "  </tbody>\n",
       "</table>\n",
       "</div>"
      ],
      "text/plain": [
       "              id        balance     user_id\n",
       "count  441.00000     441.000000  441.000000\n",
       "mean   220.00000    1978.075986  172.231293\n",
       "std    127.44999    9892.338349   99.099541\n",
       "min      0.00000  -13474.330000    0.000000\n",
       "25%    110.00000       0.480000   85.000000\n",
       "50%    220.00000      59.200000  172.000000\n",
       "75%    330.00000    1169.360000  258.000000\n",
       "max    440.00000  154251.970000  342.000000"
      ]
     },
     "execution_count": 209,
     "metadata": {},
     "output_type": "execute_result"
    }
   ],
   "source": [
    "accounts.describe()"
   ]
  },
  {
   "cell_type": "code",
   "execution_count": 210,
   "id": "db43cc7d",
   "metadata": {},
   "outputs": [
    {
     "data": {
      "text/plain": [
       "id           int64\n",
       "balance    float64\n",
       "user_id      int64\n",
       "dtype: object"
      ]
     },
     "execution_count": 210,
     "metadata": {},
     "output_type": "execute_result"
    }
   ],
   "source": [
    "accounts.dtypes"
   ]
  },
  {
   "cell_type": "code",
   "execution_count": 211,
   "id": "17d4f216",
   "metadata": {},
   "outputs": [
    {
     "name": "stdout",
     "output_type": "stream",
     "text": [
      "<class 'pandas.core.frame.DataFrame'>\n",
      "RangeIndex: 441 entries, 0 to 440\n",
      "Data columns (total 3 columns):\n",
      " #   Column   Non-Null Count  Dtype  \n",
      "---  ------   --------------  -----  \n",
      " 0   id       441 non-null    int64  \n",
      " 1   balance  441 non-null    float64\n",
      " 2   user_id  441 non-null    int64  \n",
      "dtypes: float64(1), int64(2)\n",
      "memory usage: 10.5 KB\n"
     ]
    }
   ],
   "source": [
    "accounts.info()"
   ]
  },
  {
   "cell_type": "code",
   "execution_count": 212,
   "id": "8c80c120",
   "metadata": {},
   "outputs": [
    {
     "data": {
      "text/plain": [
       "False    441\n",
       "dtype: int64"
      ]
     },
     "execution_count": 212,
     "metadata": {},
     "output_type": "execute_result"
    }
   ],
   "source": [
    "accounts.duplicated().value_counts()"
   ]
  },
  {
   "cell_type": "code",
   "execution_count": 213,
   "id": "ff0f2c91",
   "metadata": {},
   "outputs": [
    {
     "data": {
      "text/plain": [
       "Index(['id', 'balance', 'user_id'], dtype='object')"
      ]
     },
     "execution_count": 213,
     "metadata": {},
     "output_type": "execute_result"
    }
   ],
   "source": [
    "accounts.columns"
   ]
  },
  {
   "cell_type": "code",
   "execution_count": 214,
   "id": "8b8737b2",
   "metadata": {},
   "outputs": [
    {
     "data": {
      "text/plain": [
       "343"
      ]
     },
     "execution_count": 214,
     "metadata": {},
     "output_type": "execute_result"
    }
   ],
   "source": [
    "accounts.user_id.nunique()"
   ]
  },
  {
   "cell_type": "code",
   "execution_count": 215,
   "id": "a0bb27ea",
   "metadata": {
    "scrolled": true
   },
   "outputs": [
    {
     "data": {
      "text/plain": [
       "1      112\n",
       "13     197\n",
       "18     243\n",
       "21     146\n",
       "23     222\n",
       "      ... \n",
       "426    156\n",
       "427    156\n",
       "429     13\n",
       "436    326\n",
       "440     77\n",
       "Name: user_id, Length: 98, dtype: int64"
      ]
     },
     "execution_count": 215,
     "metadata": {},
     "output_type": "execute_result"
    }
   ],
   "source": [
    "accounts.user_id[accounts.user_id.duplicated()]"
   ]
  },
  {
   "cell_type": "code",
   "execution_count": 216,
   "id": "22569407",
   "metadata": {
    "scrolled": true
   },
   "outputs": [
    {
     "data": {
      "text/html": [
       "<div>\n",
       "<style scoped>\n",
       "    .dataframe tbody tr th:only-of-type {\n",
       "        vertical-align: middle;\n",
       "    }\n",
       "\n",
       "    .dataframe tbody tr th {\n",
       "        vertical-align: top;\n",
       "    }\n",
       "\n",
       "    .dataframe thead th {\n",
       "        text-align: right;\n",
       "    }\n",
       "</style>\n",
       "<table border=\"1\" class=\"dataframe\">\n",
       "  <thead>\n",
       "    <tr style=\"text-align: right;\">\n",
       "      <th></th>\n",
       "      <th>id</th>\n",
       "      <th>balance</th>\n",
       "      <th>user_id</th>\n",
       "    </tr>\n",
       "  </thead>\n",
       "  <tbody>\n",
       "    <tr>\n",
       "      <th>424</th>\n",
       "      <td>424</td>\n",
       "      <td>230.50</td>\n",
       "      <td>156</td>\n",
       "    </tr>\n",
       "    <tr>\n",
       "      <th>425</th>\n",
       "      <td>425</td>\n",
       "      <td>5.14</td>\n",
       "      <td>156</td>\n",
       "    </tr>\n",
       "    <tr>\n",
       "      <th>426</th>\n",
       "      <td>426</td>\n",
       "      <td>1.15</td>\n",
       "      <td>156</td>\n",
       "    </tr>\n",
       "    <tr>\n",
       "      <th>427</th>\n",
       "      <td>427</td>\n",
       "      <td>234.87</td>\n",
       "      <td>156</td>\n",
       "    </tr>\n",
       "  </tbody>\n",
       "</table>\n",
       "</div>"
      ],
      "text/plain": [
       "      id  balance  user_id\n",
       "424  424   230.50      156\n",
       "425  425     5.14      156\n",
       "426  426     1.15      156\n",
       "427  427   234.87      156"
      ]
     },
     "execution_count": 216,
     "metadata": {},
     "output_type": "execute_result"
    }
   ],
   "source": [
    "accounts[accounts.user_id == 156]"
   ]
  },
  {
   "cell_type": "markdown",
   "id": "dbb23e02",
   "metadata": {},
   "source": [
    "# Explore users"
   ]
  },
  {
   "cell_type": "code",
   "execution_count": 218,
   "id": "9be0cbeb",
   "metadata": {},
   "outputs": [
    {
     "data": {
      "text/html": [
       "<div>\n",
       "<style scoped>\n",
       "    .dataframe tbody tr th:only-of-type {\n",
       "        vertical-align: middle;\n",
       "    }\n",
       "\n",
       "    .dataframe tbody tr th {\n",
       "        vertical-align: top;\n",
       "    }\n",
       "\n",
       "    .dataframe thead th {\n",
       "        text-align: right;\n",
       "    }\n",
       "</style>\n",
       "<table border=\"1\" class=\"dataframe\">\n",
       "  <thead>\n",
       "    <tr style=\"text-align: right;\">\n",
       "      <th></th>\n",
       "      <th>id;update_date</th>\n",
       "    </tr>\n",
       "  </thead>\n",
       "  <tbody>\n",
       "    <tr>\n",
       "      <th>0</th>\n",
       "      <td>0;27/09/2020</td>\n",
       "    </tr>\n",
       "    <tr>\n",
       "      <th>1</th>\n",
       "      <td>1;27/09/2020</td>\n",
       "    </tr>\n",
       "    <tr>\n",
       "      <th>2</th>\n",
       "      <td>2;27/09/2020</td>\n",
       "    </tr>\n",
       "    <tr>\n",
       "      <th>3</th>\n",
       "      <td>3;27/09/2020</td>\n",
       "    </tr>\n",
       "    <tr>\n",
       "      <th>4</th>\n",
       "      <td>4;27/09/2020</td>\n",
       "    </tr>\n",
       "  </tbody>\n",
       "</table>\n",
       "</div>"
      ],
      "text/plain": [
       "  id;update_date\n",
       "0   0;27/09/2020\n",
       "1   1;27/09/2020\n",
       "2   2;27/09/2020\n",
       "3   3;27/09/2020\n",
       "4   4;27/09/2020"
      ]
     },
     "execution_count": 218,
     "metadata": {},
     "output_type": "execute_result"
    }
   ],
   "source": [
    "users.head()"
   ]
  },
  {
   "cell_type": "code",
   "execution_count": 219,
   "id": "80bcc797",
   "metadata": {},
   "outputs": [
    {
     "data": {
      "text/plain": [
       "(343, 1)"
      ]
     },
     "execution_count": 219,
     "metadata": {},
     "output_type": "execute_result"
    }
   ],
   "source": [
    "users.shape"
   ]
  },
  {
   "cell_type": "code",
   "execution_count": 220,
   "id": "792513a7",
   "metadata": {},
   "outputs": [
    {
     "data": {
      "text/plain": [
       "Index(['id;update_date'], dtype='object')"
      ]
     },
     "execution_count": 220,
     "metadata": {},
     "output_type": "execute_result"
    }
   ],
   "source": [
    "users.columns"
   ]
  },
  {
   "cell_type": "code",
   "execution_count": 221,
   "id": "126b2d39",
   "metadata": {},
   "outputs": [],
   "source": [
    "# users has one column separated with colon, let's make it 2 columns\n",
    "# rename id to user_id to further merge with other datasets\n",
    "users[['user_id', 'update_date']] = users['id;update_date'].str.split(\";\",expand=True,)\n",
    "# drop splitted column\n",
    "users.drop(columns='id;update_date',inplace=True)\n",
    "\n",
    "\n",
    "# or could have loaded from csv separeated with  colon ->\n",
    "# users = pd.read_csv('../data/users.csv', sep=';')"
   ]
  },
  {
   "cell_type": "code",
   "execution_count": 222,
   "id": "b53b1cc3",
   "metadata": {
    "scrolled": true
   },
   "outputs": [
    {
     "data": {
      "text/html": [
       "<div>\n",
       "<style scoped>\n",
       "    .dataframe tbody tr th:only-of-type {\n",
       "        vertical-align: middle;\n",
       "    }\n",
       "\n",
       "    .dataframe tbody tr th {\n",
       "        vertical-align: top;\n",
       "    }\n",
       "\n",
       "    .dataframe thead th {\n",
       "        text-align: right;\n",
       "    }\n",
       "</style>\n",
       "<table border=\"1\" class=\"dataframe\">\n",
       "  <thead>\n",
       "    <tr style=\"text-align: right;\">\n",
       "      <th></th>\n",
       "      <th>user_id</th>\n",
       "      <th>update_date</th>\n",
       "    </tr>\n",
       "  </thead>\n",
       "  <tbody>\n",
       "    <tr>\n",
       "      <th>count</th>\n",
       "      <td>343</td>\n",
       "      <td>343</td>\n",
       "    </tr>\n",
       "    <tr>\n",
       "      <th>unique</th>\n",
       "      <td>343</td>\n",
       "      <td>2</td>\n",
       "    </tr>\n",
       "    <tr>\n",
       "      <th>top</th>\n",
       "      <td>0</td>\n",
       "      <td>27/09/2020</td>\n",
       "    </tr>\n",
       "    <tr>\n",
       "      <th>freq</th>\n",
       "      <td>1</td>\n",
       "      <td>312</td>\n",
       "    </tr>\n",
       "  </tbody>\n",
       "</table>\n",
       "</div>"
      ],
      "text/plain": [
       "       user_id update_date\n",
       "count      343         343\n",
       "unique     343           2\n",
       "top          0  27/09/2020\n",
       "freq         1         312"
      ]
     },
     "execution_count": 222,
     "metadata": {},
     "output_type": "execute_result"
    }
   ],
   "source": [
    "users.describe()"
   ]
  },
  {
   "cell_type": "code",
   "execution_count": 223,
   "id": "ea4bd729",
   "metadata": {},
   "outputs": [
    {
     "data": {
      "text/html": [
       "<div>\n",
       "<style scoped>\n",
       "    .dataframe tbody tr th:only-of-type {\n",
       "        vertical-align: middle;\n",
       "    }\n",
       "\n",
       "    .dataframe tbody tr th {\n",
       "        vertical-align: top;\n",
       "    }\n",
       "\n",
       "    .dataframe thead th {\n",
       "        text-align: right;\n",
       "    }\n",
       "</style>\n",
       "<table border=\"1\" class=\"dataframe\">\n",
       "  <thead>\n",
       "    <tr style=\"text-align: right;\">\n",
       "      <th></th>\n",
       "      <th>user_id</th>\n",
       "      <th>update_date</th>\n",
       "    </tr>\n",
       "  </thead>\n",
       "  <tbody>\n",
       "    <tr>\n",
       "      <th>0</th>\n",
       "      <td>0</td>\n",
       "      <td>27/09/2020</td>\n",
       "    </tr>\n",
       "    <tr>\n",
       "      <th>1</th>\n",
       "      <td>1</td>\n",
       "      <td>27/09/2020</td>\n",
       "    </tr>\n",
       "    <tr>\n",
       "      <th>2</th>\n",
       "      <td>2</td>\n",
       "      <td>27/09/2020</td>\n",
       "    </tr>\n",
       "    <tr>\n",
       "      <th>3</th>\n",
       "      <td>3</td>\n",
       "      <td>27/09/2020</td>\n",
       "    </tr>\n",
       "    <tr>\n",
       "      <th>4</th>\n",
       "      <td>4</td>\n",
       "      <td>27/09/2020</td>\n",
       "    </tr>\n",
       "  </tbody>\n",
       "</table>\n",
       "</div>"
      ],
      "text/plain": [
       "  user_id update_date\n",
       "0       0  27/09/2020\n",
       "1       1  27/09/2020\n",
       "2       2  27/09/2020\n",
       "3       3  27/09/2020\n",
       "4       4  27/09/2020"
      ]
     },
     "execution_count": 223,
     "metadata": {},
     "output_type": "execute_result"
    }
   ],
   "source": [
    "users.head()"
   ]
  },
  {
   "cell_type": "code",
   "execution_count": 224,
   "id": "b9a6f631",
   "metadata": {},
   "outputs": [
    {
     "data": {
      "text/plain": [
       "user_id        object\n",
       "update_date    object\n",
       "dtype: object"
      ]
     },
     "execution_count": 224,
     "metadata": {},
     "output_type": "execute_result"
    }
   ],
   "source": [
    "users.dtypes"
   ]
  },
  {
   "cell_type": "code",
   "execution_count": 225,
   "id": "90d9e6be",
   "metadata": {
    "scrolled": true
   },
   "outputs": [
    {
     "name": "stdout",
     "output_type": "stream",
     "text": [
      "<class 'pandas.core.frame.DataFrame'>\n",
      "RangeIndex: 343 entries, 0 to 342\n",
      "Data columns (total 2 columns):\n",
      " #   Column       Non-Null Count  Dtype \n",
      "---  ------       --------------  ----- \n",
      " 0   user_id      343 non-null    object\n",
      " 1   update_date  343 non-null    object\n",
      "dtypes: object(2)\n",
      "memory usage: 5.5+ KB\n"
     ]
    }
   ],
   "source": [
    "users.info()"
   ]
  },
  {
   "cell_type": "code",
   "execution_count": 226,
   "id": "3001e757",
   "metadata": {},
   "outputs": [
    {
     "data": {
      "text/plain": [
       "False    343\n",
       "dtype: int64"
      ]
     },
     "execution_count": 226,
     "metadata": {},
     "output_type": "execute_result"
    }
   ],
   "source": [
    "users.duplicated().value_counts()"
   ]
  },
  {
   "cell_type": "code",
   "execution_count": 227,
   "id": "415da9d8",
   "metadata": {},
   "outputs": [
    {
     "data": {
      "text/plain": [
       "Index(['user_id', 'update_date'], dtype='object')"
      ]
     },
     "execution_count": 227,
     "metadata": {},
     "output_type": "execute_result"
    }
   ],
   "source": [
    "users.columns"
   ]
  },
  {
   "cell_type": "code",
   "execution_count": 228,
   "id": "108a3245",
   "metadata": {},
   "outputs": [],
   "source": [
    "users.update_date = pd.to_datetime(users.update_date)"
   ]
  },
  {
   "cell_type": "code",
   "execution_count": 229,
   "id": "d0e4d9e5",
   "metadata": {},
   "outputs": [],
   "source": [
    "users.user_id = users.user_id.astype('int')"
   ]
  },
  {
   "cell_type": "code",
   "execution_count": 230,
   "id": "e58ddd8d",
   "metadata": {},
   "outputs": [
    {
     "data": {
      "text/plain": [
       "user_id                 int64\n",
       "update_date    datetime64[ns]\n",
       "dtype: object"
      ]
     },
     "execution_count": 230,
     "metadata": {},
     "output_type": "execute_result"
    }
   ],
   "source": [
    "users.dtypes"
   ]
  },
  {
   "cell_type": "markdown",
   "id": "1c119eb9",
   "metadata": {},
   "source": [
    "# Merge datasets"
   ]
  },
  {
   "cell_type": "code",
   "execution_count": 317,
   "id": "edd0d939",
   "metadata": {},
   "outputs": [
    {
     "data": {
      "text/plain": [
       "Index(['date', 'amount', 'account_id'], dtype='object')"
      ]
     },
     "execution_count": 317,
     "metadata": {},
     "output_type": "execute_result"
    }
   ],
   "source": [
    "transactions.columns"
   ]
  },
  {
   "cell_type": "code",
   "execution_count": 318,
   "id": "6866b622",
   "metadata": {},
   "outputs": [
    {
     "data": {
      "text/plain": [
       "Index(['account_id', 'balance', 'user_id'], dtype='object')"
      ]
     },
     "execution_count": 318,
     "metadata": {},
     "output_type": "execute_result"
    }
   ],
   "source": [
    "accounts.columns"
   ]
  },
  {
   "cell_type": "code",
   "execution_count": 319,
   "id": "c4ed9a92",
   "metadata": {},
   "outputs": [
    {
     "data": {
      "text/plain": [
       "Index(['user_id', 'update_date'], dtype='object')"
      ]
     },
     "execution_count": 319,
     "metadata": {},
     "output_type": "execute_result"
    }
   ],
   "source": [
    "users.columns"
   ]
  },
  {
   "cell_type": "markdown",
   "id": "137f63ad",
   "metadata": {},
   "source": [
    "##  irrelevant intermediate reflections on necessary columns "
   ]
  },
  {
   "cell_type": "code",
   "execution_count": 316,
   "id": "6913fc5f",
   "metadata": {},
   "outputs": [],
   "source": [
    "# the balance provided for each account is the balance at the update date of the user the account belongs to.\n",
    "# so merge users and accounts\n",
    "#users_balance = users.merge(accounts,on='user_id')\n",
    "\n",
    "# users_balance.columns\n",
    "\n",
    "# users_balance.info()\n",
    "\n",
    "# # rename columns title for further merge\n",
    "# accounts.rename(columns={'id':'account_id'},inplace=True)\n",
    "\n",
    "# users_balance.rename(columns={'update_date':'date'},inplace=True)\n",
    "\n",
    "# users_balance[users_balance.account_id==53]\n",
    "\n",
    "# a = users_balance[users_balance.account_id==53]\n",
    "\n",
    "# b = transactions[transactions.account_id==53]\n",
    "\n",
    "# c = transactions.merge(accounts, on = 'account_id')\n",
    "\n",
    "# d = users.rename(columns={'update_date':'date'})\n",
    "\n",
    "# e = d[d.user_id==340].drop(columns='date')\n",
    "\n",
    "# f = c[c.account_id==53].drop(columns='balance')\n",
    "\n",
    "# e\n",
    "\n",
    "# f.head(2)\n",
    "\n",
    "# b.head(2)\n",
    "\n",
    "# a\n",
    "\n",
    "# a.merge(b,on=['date','account_id'],how='outer')\n",
    "\n",
    "# e.merge(f,on=['user_id'])\n",
    "\n",
    "# f.merge(e,on='date', how='outer')\n",
    "\n",
    "# a.merge(b,on='date',how='outer',sort=True)\n",
    "\n",
    "# transactions[transactions.account_id==53]"
   ]
  },
  {
   "cell_type": "markdown",
   "id": "b59aff5d",
   "metadata": {},
   "source": [
    "PREDICTION REQUIREMENTS:\n",
    "\n",
    "Set up a prediction function that takes a list of accounts, \n",
    " a list of transactions and a user, \n",
    "and ouputs a prediction for the aggregated next month outgoing for that user.\n",
    "\n",
    "outgoing is defined as the sum of all transactions with < 0 amount over a certain time-period. \n",
    "So to get the monthly outgoing, you can sum the transactions over monthly periods. -->"
   ]
  },
  {
   "cell_type": "markdown",
   "id": "922dd4a8",
   "metadata": {},
   "source": [
    "PREPARING RELEVANT COLUMNS FOR INPUT DATASET FOR PREDICTION: \n",
    "\n",
    "Since prediction will be based on list of accounts and transactions per user and target will be based on sum of transactions per account, balance columns from accounts dataset and full users dataset is not needed.\n",
    "Columns needed: \n",
    " - transactions dataset: date, amount,account_id\n",
    " - accounts dataset: account_id, user_id\n",
    "These two datasets will be merged on account_id. "
   ]
  },
  {
   "cell_type": "code",
   "execution_count": 322,
   "id": "e75e1555",
   "metadata": {},
   "outputs": [],
   "source": [
    "accounts.drop(columns='balance',inplace = True)"
   ]
  },
  {
   "cell_type": "code",
   "execution_count": 324,
   "id": "0a843dc6",
   "metadata": {},
   "outputs": [],
   "source": [
    "merged_df = transactions.merge(accounts, on = 'account_id')"
   ]
  },
  {
   "cell_type": "markdown",
   "id": "0d189bd5",
   "metadata": {},
   "source": [
    " # Explore, clean and prepare merged df "
   ]
  },
  {
   "cell_type": "code",
   "execution_count": 325,
   "id": "41866a51",
   "metadata": {
    "scrolled": true
   },
   "outputs": [
    {
     "data": {
      "text/html": [
       "<div>\n",
       "<style scoped>\n",
       "    .dataframe tbody tr th:only-of-type {\n",
       "        vertical-align: middle;\n",
       "    }\n",
       "\n",
       "    .dataframe tbody tr th {\n",
       "        vertical-align: top;\n",
       "    }\n",
       "\n",
       "    .dataframe thead th {\n",
       "        text-align: right;\n",
       "    }\n",
       "</style>\n",
       "<table border=\"1\" class=\"dataframe\">\n",
       "  <thead>\n",
       "    <tr style=\"text-align: right;\">\n",
       "      <th></th>\n",
       "      <th>date</th>\n",
       "      <th>amount</th>\n",
       "      <th>account_id</th>\n",
       "      <th>user_id</th>\n",
       "    </tr>\n",
       "  </thead>\n",
       "  <tbody>\n",
       "    <tr>\n",
       "      <th>0</th>\n",
       "      <td>2019-12-16</td>\n",
       "      <td>-29.09</td>\n",
       "      <td>1</td>\n",
       "      <td>112</td>\n",
       "    </tr>\n",
       "    <tr>\n",
       "      <th>1</th>\n",
       "      <td>2019-12-16</td>\n",
       "      <td>160.00</td>\n",
       "      <td>1</td>\n",
       "      <td>112</td>\n",
       "    </tr>\n",
       "    <tr>\n",
       "      <th>2</th>\n",
       "      <td>2019-12-16</td>\n",
       "      <td>-14.00</td>\n",
       "      <td>1</td>\n",
       "      <td>112</td>\n",
       "    </tr>\n",
       "    <tr>\n",
       "      <th>3</th>\n",
       "      <td>2019-12-17</td>\n",
       "      <td>-94.50</td>\n",
       "      <td>1</td>\n",
       "      <td>112</td>\n",
       "    </tr>\n",
       "    <tr>\n",
       "      <th>4</th>\n",
       "      <td>2019-12-17</td>\n",
       "      <td>50.00</td>\n",
       "      <td>1</td>\n",
       "      <td>112</td>\n",
       "    </tr>\n",
       "  </tbody>\n",
       "</table>\n",
       "</div>"
      ],
      "text/plain": [
       "        date  amount  account_id  user_id\n",
       "0 2019-12-16  -29.09           1      112\n",
       "1 2019-12-16  160.00           1      112\n",
       "2 2019-12-16  -14.00           1      112\n",
       "3 2019-12-17  -94.50           1      112\n",
       "4 2019-12-17   50.00           1      112"
      ]
     },
     "execution_count": 325,
     "metadata": {},
     "output_type": "execute_result"
    }
   ],
   "source": [
    "merged_df.head()"
   ]
  },
  {
   "cell_type": "code",
   "execution_count": 326,
   "id": "af6b5fe7",
   "metadata": {},
   "outputs": [
    {
     "data": {
      "text/plain": [
       "False    181542\n",
       "True       9856\n",
       "dtype: int64"
      ]
     },
     "execution_count": 326,
     "metadata": {},
     "output_type": "execute_result"
    }
   ],
   "source": [
    "merged_df.duplicated().value_counts()"
   ]
  },
  {
   "cell_type": "code",
   "execution_count": 327,
   "id": "e7b072d7",
   "metadata": {},
   "outputs": [],
   "source": [
    "merged_df.drop_duplicates(inplace=True)"
   ]
  },
  {
   "cell_type": "code",
   "execution_count": 328,
   "id": "c524e599",
   "metadata": {},
   "outputs": [
    {
     "data": {
      "text/plain": [
       "(181542, 4)"
      ]
     },
     "execution_count": 328,
     "metadata": {},
     "output_type": "execute_result"
    }
   ],
   "source": [
    "merged_df.shape"
   ]
  },
  {
   "cell_type": "code",
   "execution_count": 329,
   "id": "207a82ad",
   "metadata": {
    "scrolled": true
   },
   "outputs": [
    {
     "name": "stdout",
     "output_type": "stream",
     "text": [
      "<class 'pandas.core.frame.DataFrame'>\n",
      "Int64Index: 181542 entries, 0 to 191397\n",
      "Data columns (total 4 columns):\n",
      " #   Column      Non-Null Count   Dtype         \n",
      "---  ------      --------------   -----         \n",
      " 0   date        181542 non-null  datetime64[ns]\n",
      " 1   amount      181542 non-null  float64       \n",
      " 2   account_id  181542 non-null  int64         \n",
      " 3   user_id     181542 non-null  int64         \n",
      "dtypes: datetime64[ns](1), float64(1), int64(2)\n",
      "memory usage: 6.9 MB\n"
     ]
    }
   ],
   "source": [
    "merged_df.info()"
   ]
  },
  {
   "cell_type": "code",
   "execution_count": 330,
   "id": "4efe28d2",
   "metadata": {},
   "outputs": [
    {
     "data": {
      "text/html": [
       "<div>\n",
       "<style scoped>\n",
       "    .dataframe tbody tr th:only-of-type {\n",
       "        vertical-align: middle;\n",
       "    }\n",
       "\n",
       "    .dataframe tbody tr th {\n",
       "        vertical-align: top;\n",
       "    }\n",
       "\n",
       "    .dataframe thead th {\n",
       "        text-align: right;\n",
       "    }\n",
       "</style>\n",
       "<table border=\"1\" class=\"dataframe\">\n",
       "  <thead>\n",
       "    <tr style=\"text-align: right;\">\n",
       "      <th></th>\n",
       "      <th>amount</th>\n",
       "      <th>account_id</th>\n",
       "      <th>user_id</th>\n",
       "    </tr>\n",
       "  </thead>\n",
       "  <tbody>\n",
       "    <tr>\n",
       "      <th>count</th>\n",
       "      <td>181542.000000</td>\n",
       "      <td>181542.000000</td>\n",
       "      <td>181542.000000</td>\n",
       "    </tr>\n",
       "    <tr>\n",
       "      <th>mean</th>\n",
       "      <td>4.840099</td>\n",
       "      <td>225.050369</td>\n",
       "      <td>157.207649</td>\n",
       "    </tr>\n",
       "    <tr>\n",
       "      <th>std</th>\n",
       "      <td>1230.856862</td>\n",
       "      <td>127.042141</td>\n",
       "      <td>100.493586</td>\n",
       "    </tr>\n",
       "    <tr>\n",
       "      <th>min</th>\n",
       "      <td>-82201.680000</td>\n",
       "      <td>0.000000</td>\n",
       "      <td>0.000000</td>\n",
       "    </tr>\n",
       "    <tr>\n",
       "      <th>25%</th>\n",
       "      <td>-56.500000</td>\n",
       "      <td>110.000000</td>\n",
       "      <td>65.000000</td>\n",
       "    </tr>\n",
       "    <tr>\n",
       "      <th>50%</th>\n",
       "      <td>-16.750000</td>\n",
       "      <td>227.000000</td>\n",
       "      <td>150.000000</td>\n",
       "    </tr>\n",
       "    <tr>\n",
       "      <th>75%</th>\n",
       "      <td>-2.340000</td>\n",
       "      <td>337.000000</td>\n",
       "      <td>250.000000</td>\n",
       "    </tr>\n",
       "    <tr>\n",
       "      <th>max</th>\n",
       "      <td>83340.000000</td>\n",
       "      <td>440.000000</td>\n",
       "      <td>342.000000</td>\n",
       "    </tr>\n",
       "  </tbody>\n",
       "</table>\n",
       "</div>"
      ],
      "text/plain": [
       "              amount     account_id        user_id\n",
       "count  181542.000000  181542.000000  181542.000000\n",
       "mean        4.840099     225.050369     157.207649\n",
       "std      1230.856862     127.042141     100.493586\n",
       "min    -82201.680000       0.000000       0.000000\n",
       "25%       -56.500000     110.000000      65.000000\n",
       "50%       -16.750000     227.000000     150.000000\n",
       "75%        -2.340000     337.000000     250.000000\n",
       "max     83340.000000     440.000000     342.000000"
      ]
     },
     "execution_count": 330,
     "metadata": {},
     "output_type": "execute_result"
    }
   ],
   "source": [
    "merged_df.describe()"
   ]
  },
  {
   "cell_type": "markdown",
   "id": "a57cd6f1",
   "metadata": {},
   "source": [
    "Remark: \n",
    "numerical data in dataset don't contain anything but numbers, \n",
    "as it is expected by its column names, \n",
    "i.e., no weird values or caracters or nulls, etc. \n",
    "can start working with it\n"
   ]
  },
  {
   "cell_type": "code",
   "execution_count": 345,
   "id": "32c9e8ef",
   "metadata": {
    "scrolled": false
   },
   "outputs": [
    {
     "data": {
      "text/plain": [
       "<AxesSubplot:xlabel='date'>"
      ]
     },
     "execution_count": 345,
     "metadata": {},
     "output_type": "execute_result"
    },
    {
     "data": {
      "image/png": "[encoded data removed]",
      "text/plain": [
       "<Figure size 432x288 with 1 Axes>"
      ]
     },
     "metadata": {
      "needs_background": "light"
     },
     "output_type": "display_data"
    }
   ],
   "source": [
    "merged_df.plot(x='date', y = 'amount')"
   ]
  },
  {
   "cell_type": "code",
   "execution_count": 510,
   "id": "104f6eb4",
   "metadata": {},
   "outputs": [],
   "source": [
    "# Build a function to check which accounts have more than 180 days of history\n",
    "# Got to group transactions by user and calculate activity period\n",
    "# You can assume that any account passed to your service will have at least 6 months of history.\n",
    "def more_180_days(df):\n",
    "    \n",
    "    column_names = ['date', 'amount', 'account_id', 'user_id']\n",
    "    transactions_180  = pd.DataFrame(columns = column_names)\n",
    "    #n_accounts = merged_df.account_id.nunique()\n",
    "    account_numbers = df.account_id.unique()\n",
    "    \n",
    "    for i,j in enumerate(account_numbers):\n",
    "        start_date = df[df.account_id==j].date.iloc[0]\n",
    "        last_date = df[df.account_id==j].date.iloc[-1]\n",
    "        account_age = pd.Timedelta(last_date - start_date).days\n",
    "        if int(account_age) >= 180: \n",
    "            transactions_180 = transactions_180.append(df[df.account_id==j])\n",
    "    return transactions_180"
   ]
  },
  {
   "cell_type": "code",
   "execution_count": 511,
   "id": "4bac7903",
   "metadata": {},
   "outputs": [
    {
     "data": {
      "text/html": [
       "<div>\n",
       "<style scoped>\n",
       "    .dataframe tbody tr th:only-of-type {\n",
       "        vertical-align: middle;\n",
       "    }\n",
       "\n",
       "    .dataframe tbody tr th {\n",
       "        vertical-align: top;\n",
       "    }\n",
       "\n",
       "    .dataframe thead th {\n",
       "        text-align: right;\n",
       "    }\n",
       "</style>\n",
       "<table border=\"1\" class=\"dataframe\">\n",
       "  <thead>\n",
       "    <tr style=\"text-align: right;\">\n",
       "      <th></th>\n",
       "      <th>date</th>\n",
       "      <th>amount</th>\n",
       "      <th>account_id</th>\n",
       "      <th>user_id</th>\n",
       "    </tr>\n",
       "  </thead>\n",
       "  <tbody>\n",
       "    <tr>\n",
       "      <th>0</th>\n",
       "      <td>2019-12-16</td>\n",
       "      <td>-29.09</td>\n",
       "      <td>1</td>\n",
       "      <td>112</td>\n",
       "    </tr>\n",
       "    <tr>\n",
       "      <th>1</th>\n",
       "      <td>2019-12-16</td>\n",
       "      <td>160.00</td>\n",
       "      <td>1</td>\n",
       "      <td>112</td>\n",
       "    </tr>\n",
       "    <tr>\n",
       "      <th>2</th>\n",
       "      <td>2019-12-16</td>\n",
       "      <td>-14.00</td>\n",
       "      <td>1</td>\n",
       "      <td>112</td>\n",
       "    </tr>\n",
       "    <tr>\n",
       "      <th>3</th>\n",
       "      <td>2019-12-17</td>\n",
       "      <td>-94.50</td>\n",
       "      <td>1</td>\n",
       "      <td>112</td>\n",
       "    </tr>\n",
       "    <tr>\n",
       "      <th>4</th>\n",
       "      <td>2019-12-17</td>\n",
       "      <td>50.00</td>\n",
       "      <td>1</td>\n",
       "      <td>112</td>\n",
       "    </tr>\n",
       "    <tr>\n",
       "      <th>...</th>\n",
       "      <td>...</td>\n",
       "      <td>...</td>\n",
       "      <td>...</td>\n",
       "      <td>...</td>\n",
       "    </tr>\n",
       "    <tr>\n",
       "      <th>191362</th>\n",
       "      <td>2020-09-22</td>\n",
       "      <td>-20.00</td>\n",
       "      <td>439</td>\n",
       "      <td>77</td>\n",
       "    </tr>\n",
       "    <tr>\n",
       "      <th>191363</th>\n",
       "      <td>2020-09-23</td>\n",
       "      <td>-15.99</td>\n",
       "      <td>439</td>\n",
       "      <td>77</td>\n",
       "    </tr>\n",
       "    <tr>\n",
       "      <th>191364</th>\n",
       "      <td>2020-09-24</td>\n",
       "      <td>-1.70</td>\n",
       "      <td>439</td>\n",
       "      <td>77</td>\n",
       "    </tr>\n",
       "    <tr>\n",
       "      <th>191365</th>\n",
       "      <td>2020-09-24</td>\n",
       "      <td>-20.00</td>\n",
       "      <td>439</td>\n",
       "      <td>77</td>\n",
       "    </tr>\n",
       "    <tr>\n",
       "      <th>191367</th>\n",
       "      <td>2020-09-25</td>\n",
       "      <td>-1.20</td>\n",
       "      <td>439</td>\n",
       "      <td>77</td>\n",
       "    </tr>\n",
       "  </tbody>\n",
       "</table>\n",
       "<p>158769 rows × 4 columns</p>\n",
       "</div>"
      ],
      "text/plain": [
       "             date  amount account_id user_id\n",
       "0      2019-12-16  -29.09          1     112\n",
       "1      2019-12-16  160.00          1     112\n",
       "2      2019-12-16  -14.00          1     112\n",
       "3      2019-12-17  -94.50          1     112\n",
       "4      2019-12-17   50.00          1     112\n",
       "...           ...     ...        ...     ...\n",
       "191362 2020-09-22  -20.00        439      77\n",
       "191363 2020-09-23  -15.99        439      77\n",
       "191364 2020-09-24   -1.70        439      77\n",
       "191365 2020-09-24  -20.00        439      77\n",
       "191367 2020-09-25   -1.20        439      77\n",
       "\n",
       "[158769 rows x 4 columns]"
      ]
     },
     "execution_count": 511,
     "metadata": {},
     "output_type": "execute_result"
    }
   ],
   "source": [
    "more_180_days(merged_df)"
   ]
  },
  {
   "cell_type": "code",
   "execution_count": 446,
   "id": "d1326478",
   "metadata": {},
   "outputs": [],
   "source": [
    "# TRIALS, ignore it\n",
    "## for every account take first and last date diff\n",
    "## build new dataset with diff > 180 days\n",
    "# transactions_180 = []\n",
    "# n_accounts = merged_df.account_id.nunique()\n",
    "\n",
    "# for i in range(1):\n",
    "#     start_date = merged_df[merged_df.account_id==i].date.iloc[0]\n",
    "#     last_date = merged_df[merged_df.account_id==i].date.iloc[-1]\n",
    "#     account_age = pd.Timedelta(last_date - start_date).days\n",
    "#     if int(account_age) <= 180: \n",
    "#         transactions_180.append(merged_df[merged_df.account_id==i])"
   ]
  },
  {
   "cell_type": "code",
   "execution_count": 373,
   "id": "d364c3c5",
   "metadata": {},
   "outputs": [
    {
     "data": {
      "text/html": [
       "<div>\n",
       "<style scoped>\n",
       "    .dataframe tbody tr th:only-of-type {\n",
       "        vertical-align: middle;\n",
       "    }\n",
       "\n",
       "    .dataframe tbody tr th {\n",
       "        vertical-align: top;\n",
       "    }\n",
       "\n",
       "    .dataframe thead th {\n",
       "        text-align: right;\n",
       "    }\n",
       "</style>\n",
       "<table border=\"1\" class=\"dataframe\">\n",
       "  <thead>\n",
       "    <tr style=\"text-align: right;\">\n",
       "      <th></th>\n",
       "      <th>amount</th>\n",
       "      <th>account_id</th>\n",
       "      <th>user_id</th>\n",
       "    </tr>\n",
       "  </thead>\n",
       "  <tbody>\n",
       "    <tr>\n",
       "      <th>count</th>\n",
       "      <td>181542.000000</td>\n",
       "      <td>181542.000000</td>\n",
       "      <td>181542.000000</td>\n",
       "    </tr>\n",
       "    <tr>\n",
       "      <th>mean</th>\n",
       "      <td>4.840099</td>\n",
       "      <td>225.050369</td>\n",
       "      <td>157.207649</td>\n",
       "    </tr>\n",
       "    <tr>\n",
       "      <th>std</th>\n",
       "      <td>1230.856862</td>\n",
       "      <td>127.042141</td>\n",
       "      <td>100.493586</td>\n",
       "    </tr>\n",
       "    <tr>\n",
       "      <th>min</th>\n",
       "      <td>-82201.680000</td>\n",
       "      <td>0.000000</td>\n",
       "      <td>0.000000</td>\n",
       "    </tr>\n",
       "    <tr>\n",
       "      <th>25%</th>\n",
       "      <td>-56.500000</td>\n",
       "      <td>110.000000</td>\n",
       "      <td>65.000000</td>\n",
       "    </tr>\n",
       "    <tr>\n",
       "      <th>50%</th>\n",
       "      <td>-16.750000</td>\n",
       "      <td>227.000000</td>\n",
       "      <td>150.000000</td>\n",
       "    </tr>\n",
       "    <tr>\n",
       "      <th>75%</th>\n",
       "      <td>-2.340000</td>\n",
       "      <td>337.000000</td>\n",
       "      <td>250.000000</td>\n",
       "    </tr>\n",
       "    <tr>\n",
       "      <th>max</th>\n",
       "      <td>83340.000000</td>\n",
       "      <td>440.000000</td>\n",
       "      <td>342.000000</td>\n",
       "    </tr>\n",
       "  </tbody>\n",
       "</table>\n",
       "</div>"
      ],
      "text/plain": [
       "              amount     account_id        user_id\n",
       "count  181542.000000  181542.000000  181542.000000\n",
       "mean        4.840099     225.050369     157.207649\n",
       "std      1230.856862     127.042141     100.493586\n",
       "min    -82201.680000       0.000000       0.000000\n",
       "25%       -56.500000     110.000000      65.000000\n",
       "50%       -16.750000     227.000000     150.000000\n",
       "75%        -2.340000     337.000000     250.000000\n",
       "max     83340.000000     440.000000     342.000000"
      ]
     },
     "execution_count": 373,
     "metadata": {},
     "output_type": "execute_result"
    }
   ],
   "source": [
    "merged_df.describe()"
   ]
  },
  {
   "cell_type": "code",
   "execution_count": 363,
   "id": "2e2deefc",
   "metadata": {},
   "outputs": [
    {
     "data": {
      "text/plain": [
       "Timedelta('237 days 00:00:00')"
      ]
     },
     "execution_count": 363,
     "metadata": {},
     "output_type": "execute_result"
    }
   ],
   "source": [
    "merged_df[merged_df.account_id==5].date.iloc[-1] - merged_df[merged_df.account_id==5].date.iloc[0]"
   ]
  },
  {
   "cell_type": "code",
   "execution_count": 347,
   "id": "e21714c4",
   "metadata": {},
   "outputs": [],
   "source": [
    "grouped = merged_df.groupby(by='user_id',as_index=False).amount.sum()"
   ]
  },
  {
   "cell_type": "code",
   "execution_count": 348,
   "id": "284fb239",
   "metadata": {
    "scrolled": false
   },
   "outputs": [
    {
     "data": {
      "text/html": [
       "<div>\n",
       "<style scoped>\n",
       "    .dataframe tbody tr th:only-of-type {\n",
       "        vertical-align: middle;\n",
       "    }\n",
       "\n",
       "    .dataframe tbody tr th {\n",
       "        vertical-align: top;\n",
       "    }\n",
       "\n",
       "    .dataframe thead th {\n",
       "        text-align: right;\n",
       "    }\n",
       "</style>\n",
       "<table border=\"1\" class=\"dataframe\">\n",
       "  <thead>\n",
       "    <tr style=\"text-align: right;\">\n",
       "      <th></th>\n",
       "      <th>user_id</th>\n",
       "      <th>amount</th>\n",
       "    </tr>\n",
       "  </thead>\n",
       "  <tbody>\n",
       "    <tr>\n",
       "      <th>0</th>\n",
       "      <td>0</td>\n",
       "      <td>214.95</td>\n",
       "    </tr>\n",
       "    <tr>\n",
       "      <th>1</th>\n",
       "      <td>1</td>\n",
       "      <td>11707.96</td>\n",
       "    </tr>\n",
       "    <tr>\n",
       "      <th>2</th>\n",
       "      <td>2</td>\n",
       "      <td>4373.56</td>\n",
       "    </tr>\n",
       "    <tr>\n",
       "      <th>3</th>\n",
       "      <td>3</td>\n",
       "      <td>10761.31</td>\n",
       "    </tr>\n",
       "    <tr>\n",
       "      <th>4</th>\n",
       "      <td>4</td>\n",
       "      <td>3738.96</td>\n",
       "    </tr>\n",
       "    <tr>\n",
       "      <th>...</th>\n",
       "      <td>...</td>\n",
       "      <td>...</td>\n",
       "    </tr>\n",
       "    <tr>\n",
       "      <th>338</th>\n",
       "      <td>338</td>\n",
       "      <td>-71.87</td>\n",
       "    </tr>\n",
       "    <tr>\n",
       "      <th>339</th>\n",
       "      <td>339</td>\n",
       "      <td>-9137.30</td>\n",
       "    </tr>\n",
       "    <tr>\n",
       "      <th>340</th>\n",
       "      <td>340</td>\n",
       "      <td>-1328.07</td>\n",
       "    </tr>\n",
       "    <tr>\n",
       "      <th>341</th>\n",
       "      <td>341</td>\n",
       "      <td>41.10</td>\n",
       "    </tr>\n",
       "    <tr>\n",
       "      <th>342</th>\n",
       "      <td>342</td>\n",
       "      <td>-443.15</td>\n",
       "    </tr>\n",
       "  </tbody>\n",
       "</table>\n",
       "<p>343 rows × 2 columns</p>\n",
       "</div>"
      ],
      "text/plain": [
       "     user_id    amount\n",
       "0          0    214.95\n",
       "1          1  11707.96\n",
       "2          2   4373.56\n",
       "3          3  10761.31\n",
       "4          4   3738.96\n",
       "..       ...       ...\n",
       "338      338    -71.87\n",
       "339      339  -9137.30\n",
       "340      340  -1328.07\n",
       "341      341     41.10\n",
       "342      342   -443.15\n",
       "\n",
       "[343 rows x 2 columns]"
      ]
     },
     "execution_count": 348,
     "metadata": {},
     "output_type": "execute_result"
    }
   ],
   "source": [
    "grouped"
   ]
  },
  {
   "cell_type": "code",
   "execution_count": 342,
   "id": "6e55483a",
   "metadata": {},
   "outputs": [
    {
     "data": {
      "text/plain": [
       "Timedelta('0 days 00:00:00')"
      ]
     },
     "execution_count": 342,
     "metadata": {},
     "output_type": "execute_result"
    }
   ],
   "source": [
    "merged_df.date[1]-merged_df.date[0]"
   ]
  },
  {
   "cell_type": "code",
   "execution_count": null,
   "id": "633e7cfc",
   "metadata": {},
   "outputs": [],
   "source": []
  },
  {
   "cell_type": "markdown",
   "id": "45156c7b",
   "metadata": {},
   "source": [
    "# Modelling "
   ]
  },
  {
   "cell_type": "markdown",
   "id": "34463a75",
   "metadata": {},
   "source": [
    " want to use RNN because input data for RNN is:\n",
    "- n sequences, n observations, n features\n",
    "\n",
    "translated to this data: \n",
    "- n accounts, number of days when transactions were made, transaction amount"
   ]
  },
  {
   "cell_type": "code",
   "execution_count": null,
   "id": "58a5af46",
   "metadata": {},
   "outputs": [],
   "source": []
  }
 ],
 "metadata": {
  "kernelspec": {
   "display_name": "Python 3 (ipykernel)",
   "language": "python",
   "name": "python3"
  },
  "language_info": {
   "codemirror_mode": {
    "name": "ipython",
    "version": 3
   },
   "file_extension": ".py",
   "mimetype": "text/x-python",
   "name": "python",
   "nbconvert_exporter": "python",
   "pygments_lexer": "ipython3",
   "version": "3.8.6"
  },
  "toc": {
   "base_numbering": 1,
   "nav_menu": {},
   "number_sections": true,
   "sideBar": true,
   "skip_h1_title": false,
   "title_cell": "Table of Contents",
   "title_sidebar": "Contents",
   "toc_cell": false,
   "toc_position": {
    "height": "calc(100% - 180px)",
    "left": "10px",
    "top": "150px",
    "width": "178px"
   },
   "toc_section_display": true,
   "toc_window_display": true
  }
 },
 "nbformat": 4,
 "nbformat_minor": 5
}
