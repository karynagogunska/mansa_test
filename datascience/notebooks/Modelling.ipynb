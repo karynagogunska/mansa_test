{
 "cells": [
  {
   "cell_type": "code",
   "execution_count": 3,
   "id": "0fc82d27",
   "metadata": {},
   "outputs": [],
   "source": [
    "import pandas as pd"
   ]
  },
  {
   "cell_type": "code",
   "execution_count": null,
   "id": "ede5f164",
   "metadata": {},
   "outputs": [],
   "source": []
  },
  {
   "cell_type": "code",
   "execution_count": 11,
   "id": "f056ee93",
   "metadata": {},
   "outputs": [],
   "source": [
    "# Load prepared dataset\n",
    "df = pd.read_csv('../data/transactions_for_modelling.csv',index_col=False)"
   ]
  },
  {
   "cell_type": "code",
   "execution_count": 12,
   "id": "62159a9a",
   "metadata": {},
   "outputs": [
    {
     "data": {
      "text/html": [
       "<div>\n",
       "<style scoped>\n",
       "    .dataframe tbody tr th:only-of-type {\n",
       "        vertical-align: middle;\n",
       "    }\n",
       "\n",
       "    .dataframe tbody tr th {\n",
       "        vertical-align: top;\n",
       "    }\n",
       "\n",
       "    .dataframe thead th {\n",
       "        text-align: right;\n",
       "    }\n",
       "</style>\n",
       "<table border=\"1\" class=\"dataframe\">\n",
       "  <thead>\n",
       "    <tr style=\"text-align: right;\">\n",
       "      <th></th>\n",
       "      <th>date</th>\n",
       "      <th>amount</th>\n",
       "      <th>account_id</th>\n",
       "      <th>user_id</th>\n",
       "    </tr>\n",
       "  </thead>\n",
       "  <tbody>\n",
       "    <tr>\n",
       "      <th>0</th>\n",
       "      <td>2019-12-16</td>\n",
       "      <td>-29.09</td>\n",
       "      <td>1</td>\n",
       "      <td>112</td>\n",
       "    </tr>\n",
       "    <tr>\n",
       "      <th>1</th>\n",
       "      <td>2019-12-16</td>\n",
       "      <td>160.00</td>\n",
       "      <td>1</td>\n",
       "      <td>112</td>\n",
       "    </tr>\n",
       "    <tr>\n",
       "      <th>2</th>\n",
       "      <td>2019-12-16</td>\n",
       "      <td>-14.00</td>\n",
       "      <td>1</td>\n",
       "      <td>112</td>\n",
       "    </tr>\n",
       "    <tr>\n",
       "      <th>3</th>\n",
       "      <td>2019-12-17</td>\n",
       "      <td>-94.50</td>\n",
       "      <td>1</td>\n",
       "      <td>112</td>\n",
       "    </tr>\n",
       "    <tr>\n",
       "      <th>4</th>\n",
       "      <td>2019-12-17</td>\n",
       "      <td>50.00</td>\n",
       "      <td>1</td>\n",
       "      <td>112</td>\n",
       "    </tr>\n",
       "    <tr>\n",
       "      <th>...</th>\n",
       "      <td>...</td>\n",
       "      <td>...</td>\n",
       "      <td>...</td>\n",
       "      <td>...</td>\n",
       "    </tr>\n",
       "    <tr>\n",
       "      <th>158764</th>\n",
       "      <td>2020-09-22</td>\n",
       "      <td>-20.00</td>\n",
       "      <td>439</td>\n",
       "      <td>77</td>\n",
       "    </tr>\n",
       "    <tr>\n",
       "      <th>158765</th>\n",
       "      <td>2020-09-23</td>\n",
       "      <td>-15.99</td>\n",
       "      <td>439</td>\n",
       "      <td>77</td>\n",
       "    </tr>\n",
       "    <tr>\n",
       "      <th>158766</th>\n",
       "      <td>2020-09-24</td>\n",
       "      <td>-1.70</td>\n",
       "      <td>439</td>\n",
       "      <td>77</td>\n",
       "    </tr>\n",
       "    <tr>\n",
       "      <th>158767</th>\n",
       "      <td>2020-09-24</td>\n",
       "      <td>-20.00</td>\n",
       "      <td>439</td>\n",
       "      <td>77</td>\n",
       "    </tr>\n",
       "    <tr>\n",
       "      <th>158768</th>\n",
       "      <td>2020-09-25</td>\n",
       "      <td>-1.20</td>\n",
       "      <td>439</td>\n",
       "      <td>77</td>\n",
       "    </tr>\n",
       "  </tbody>\n",
       "</table>\n",
       "<p>158769 rows × 4 columns</p>\n",
       "</div>"
      ],
      "text/plain": [
       "              date  amount  account_id  user_id\n",
       "0       2019-12-16  -29.09           1      112\n",
       "1       2019-12-16  160.00           1      112\n",
       "2       2019-12-16  -14.00           1      112\n",
       "3       2019-12-17  -94.50           1      112\n",
       "4       2019-12-17   50.00           1      112\n",
       "...            ...     ...         ...      ...\n",
       "158764  2020-09-22  -20.00         439       77\n",
       "158765  2020-09-23  -15.99         439       77\n",
       "158766  2020-09-24   -1.70         439       77\n",
       "158767  2020-09-24  -20.00         439       77\n",
       "158768  2020-09-25   -1.20         439       77\n",
       "\n",
       "[158769 rows x 4 columns]"
      ]
     },
     "execution_count": 12,
     "metadata": {},
     "output_type": "execute_result"
    }
   ],
   "source": [
    "df"
   ]
  },
  {
   "cell_type": "markdown",
   "id": "b7a92d0d",
   "metadata": {},
   "source": [
    "# Modelling\n"
   ]
  },
  {
   "cell_type": "markdown",
   "id": "6e6a78ff",
   "metadata": {},
   "source": [
    " want to use RNN because input data for RNN is:\n",
    "- n sequences, n observations, n features\n",
    "\n",
    "translated to this data: \n",
    "- n accounts, number of days when transactions were made, transaction amount\n",
    "- X = [440, individual per account, 1]"
   ]
  },
  {
   "cell_type": "code",
   "execution_count": null,
   "id": "1af3fdc6",
   "metadata": {},
   "outputs": [],
   "source": [
    "# transform data shape to input in RNN \n",
    "\n",
    "\n"
   ]
  }
 ],
 "metadata": {
  "kernelspec": {
   "display_name": "Python 3 (ipykernel)",
   "language": "python",
   "name": "python3"
  },
  "language_info": {
   "codemirror_mode": {
    "name": "ipython",
    "version": 3
   },
   "file_extension": ".py",
   "mimetype": "text/x-python",
   "name": "python",
   "nbconvert_exporter": "python",
   "pygments_lexer": "ipython3",
   "version": "3.8.6"
  },
  "toc": {
   "base_numbering": 1,
   "nav_menu": {},
   "number_sections": true,
   "sideBar": true,
   "skip_h1_title": false,
   "title_cell": "Table of Contents",
   "title_sidebar": "Contents",
   "toc_cell": false,
   "toc_position": {},
   "toc_section_display": true,
   "toc_window_display": false
  }
 },
 "nbformat": 4,
 "nbformat_minor": 5
}
